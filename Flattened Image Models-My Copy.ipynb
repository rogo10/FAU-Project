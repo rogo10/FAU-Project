{
 "cells": [
  {
   "cell_type": "code",
   "execution_count": 5,
   "metadata": {
    "ExecuteTime": {
     "end_time": "2020-03-05T19:17:16.514477Z",
     "start_time": "2020-03-05T19:16:36.016914Z"
    }
   },
   "outputs": [
    {
     "name": "stdout",
     "output_type": "stream",
     "text": [
      "(67600,)\n",
      "(67600,)\n",
      "(67600,)\n",
      "(67600,)\n",
      "(67600,)\n",
      "(67600,)\n",
      "(67600,)\n",
      "(67600,)\n",
      "(67600,)\n",
      "(67600,)\n",
      "(67600,)\n",
      "(67600,)\n",
      "(67600,)\n",
      "(67600,)\n",
      "(67600,)\n",
      "(67600,)\n",
      "(67600,)\n",
      "(67600,)\n",
      "(67600,)\n",
      "(250000,)\n",
      "(67600,)\n",
      "(67600,)\n",
      "(67600,)\n",
      "(67600,)\n",
      "(67600,)\n",
      "(67600,)\n",
      "(67600,)\n",
      "(67600,)\n",
      "(67600,)\n",
      "(67600,)\n",
      "(67600,)\n",
      "(67600,)\n",
      "(67600,)\n",
      "(67600,)\n",
      "(67600,)\n",
      "(67600,)\n",
      "(67600,)\n",
      "(59800,)\n",
      "(51220,)\n",
      "(48100,)\n",
      "(67600,)\n",
      "(67600,)\n",
      "(67600,)\n",
      "(67600,)\n",
      "(67600,)\n",
      "(67600,)\n",
      "(67600,)\n",
      "(67600,)\n",
      "(67600,)\n",
      "(64480,)\n",
      "(67600,)\n",
      "(67600,)\n",
      "(67600,)\n",
      "(67600,)\n",
      "(67600,)\n",
      "(67600,)\n",
      "(67600,)\n",
      "(67600,)\n",
      "(67600,)\n",
      "(67600,)\n",
      "(67600,)\n",
      "(67600,)\n",
      "(67600,)\n",
      "(67600,)\n",
      "(67600,)\n",
      "(67600,)\n",
      "(67600,)\n",
      "(67600,)\n",
      "(67600,)\n",
      "(67600,)\n",
      "(67600,)\n",
      "(67600,)\n",
      "(67600,)\n",
      "(67600,)\n",
      "(67600,)\n",
      "(67600,)\n",
      "(67600,)\n",
      "(67600,)\n",
      "(67600,)\n",
      "(67600,)\n",
      "(58760,)\n",
      "(55900,)\n",
      "(67600,)\n",
      "(48880,)\n",
      "(67600,)\n",
      "(67600,)\n",
      "(67600,)\n",
      "(67600,)\n",
      "(67600,)\n",
      "(67600,)\n",
      "(67600,)\n",
      "(67600,)\n",
      "(67600,)\n",
      "(67600,)\n",
      "(67600,)\n",
      "(47840,)\n",
      "(43680,)\n",
      "(67600,)\n",
      "(50700,)\n",
      "(67600,)\n",
      "(46280,)\n",
      "(67600,)\n",
      "(67600,)\n",
      "(67600,)\n",
      "(67600,)\n",
      "(67600,)\n",
      "(67600,)\n",
      "(67600,)\n",
      "(67600,)\n",
      "(67600,)\n",
      "(67600,)\n",
      "(67600,)\n",
      "(67600,)\n",
      "(67600,)\n",
      "(67600,)\n",
      "(67600,)\n",
      "(67600,)\n",
      "(67600,)\n",
      "(67600,)\n",
      "(67600,)\n",
      "(67600,)\n",
      "(67600,)\n",
      "(67600,)\n",
      "(67600,)\n",
      "(67600,)\n",
      "(67600,)\n",
      "(67600,)\n",
      "(67600,)\n",
      "(67600,)\n",
      "(67600,)\n",
      "(67600,)\n",
      "(67600,)\n",
      "(67600,)\n",
      "(67600,)\n",
      "(67600,)\n",
      "(67600,)\n",
      "(250000,)\n",
      "(67600,)\n",
      "(67600,)\n",
      "(67600,)\n",
      "(67600,)\n",
      "(67600,)\n",
      "(67600,)\n",
      "(67600,)\n",
      "(67600,)\n",
      "(67600,)\n",
      "(67600,)\n",
      "(67600,)\n",
      "(67600,)\n",
      "(67600,)\n",
      "(67600,)\n",
      "(67600,)\n",
      "(67600,)\n",
      "(250000,)\n",
      "(67600,)\n",
      "(67600,)\n",
      "(67600,)\n",
      "(67600,)\n",
      "(67600,)\n",
      "(67600,)\n",
      "(67600,)\n",
      "(67600,)\n",
      "(67600,)\n",
      "(67600,)\n",
      "(67600,)\n",
      "(67600,)\n",
      "(67600,)\n",
      "(67600,)\n",
      "(67600,)\n",
      "(67600,)\n",
      "(67600,)\n",
      "(67600,)\n",
      "(67600,)\n",
      "(67600,)\n",
      "(67600,)\n",
      "(67600,)\n",
      "(67600,)\n",
      "(67600,)\n",
      "(67600,)\n",
      "(250000,)\n",
      "(67600,)\n",
      "(67600,)\n",
      "(67600,)\n",
      "(67600,)\n",
      "(67600,)\n",
      "(67600,)\n",
      "(67600,)\n",
      "(67600,)\n",
      "(67600,)\n",
      "(67600,)\n",
      "(67600,)\n",
      "(67600,)\n",
      "(67600,)\n",
      "(67600,)\n",
      "(67600,)\n",
      "(67600,)\n",
      "(67600,)\n",
      "(67600,)\n",
      "(67600,)\n",
      "(67600,)\n",
      "(67600,)\n",
      "(247000,)\n",
      "(67600,)\n",
      "(67600,)\n",
      "(67600,)\n",
      "(67600,)\n",
      "(67600,)\n",
      "(67600,)\n",
      "(67600,)\n",
      "(67600,)\n",
      "(67600,)\n",
      "(67600,)\n",
      "(67600,)\n",
      "(53560,)\n",
      "(59280,)\n",
      "(57460,)\n",
      "(67600,)\n",
      "(67600,)\n",
      "(250000,)\n",
      "(67600,)\n",
      "(67600,)\n",
      "(67600,)\n",
      "(67600,)\n",
      "(67600,)\n",
      "(67600,)\n",
      "(67600,)\n",
      "(67600,)\n",
      "(67600,)\n",
      "(67600,)\n",
      "(67600,)\n",
      "(67600,)\n",
      "(67600,)\n",
      "(67600,)\n",
      "(67600,)\n",
      "(67600,)\n",
      "(62660,)\n",
      "(58240,)\n",
      "(53300,)\n",
      "(49140,)\n",
      "(67600,)\n",
      "(67600,)\n",
      "(67600,)\n",
      "(67600,)\n",
      "(67600,)\n",
      "(250000,)\n",
      "(239000,)\n",
      "(67600,)\n",
      "(67600,)\n",
      "(67600,)\n",
      "(67600,)\n",
      "(67600,)\n",
      "(67600,)\n",
      "(249500,)\n",
      "(67600,)\n",
      "(51740,)\n",
      "(206500,)\n",
      "(67600,)\n",
      "(67600,)\n",
      "(67600,)\n",
      "(67600,)\n",
      "(67600,)\n",
      "(67600,)\n",
      "(67600,)\n",
      "(67600,)\n",
      "(67600,)\n",
      "(67600,)\n",
      "(67600,)\n",
      "(67600,)\n",
      "(67600,)\n",
      "(67600,)\n",
      "(67600,)\n",
      "(67600,)\n",
      "(67600,)\n",
      "(56680,)\n",
      "(187000,)\n",
      "(65520,)\n",
      "(67600,)\n",
      "(67600,)\n",
      "(67600,)\n",
      "(67600,)\n",
      "(44980,)\n",
      "(38220,)\n",
      "(67600,)\n",
      "(67600,)\n",
      "(67600,)\n",
      "(67600,)\n",
      "(67600,)\n",
      "(67600,)\n",
      "(67600,)\n",
      "(67600,)\n",
      "(67600,)\n",
      "(67600,)\n",
      "(250000,)\n",
      "(67600,)\n",
      "(67600,)\n",
      "(67600,)\n",
      "(67600,)\n",
      "(67600,)\n",
      "(67600,)\n",
      "(67600,)\n",
      "(67600,)\n",
      "(67600,)\n",
      "(67600,)\n",
      "(67600,)\n",
      "(67600,)\n",
      "(67600,)\n",
      "(67600,)\n",
      "(67600,)\n",
      "(67600,)\n",
      "(67600,)\n",
      "(67600,)\n",
      "(67600,)\n",
      "(67600,)\n",
      "(67600,)\n",
      "(67600,)\n",
      "(67600,)\n",
      "(67600,)\n",
      "(67600,)\n",
      "(67600,)\n",
      "(67600,)\n",
      "(67600,)\n",
      "(67600,)\n",
      "(67600,)\n",
      "(67600,)\n",
      "(67600,)\n",
      "(67600,)\n",
      "(67600,)\n",
      "(67600,)\n",
      "(67600,)\n",
      "(67600,)\n",
      "(67600,)\n",
      "(67600,)\n",
      "(250000,)\n",
      "(67600,)\n",
      "(67600,)\n",
      "(67600,)\n",
      "(67600,)\n",
      "(67600,)\n",
      "(67600,)\n",
      "(67600,)\n",
      "(67600,)\n",
      "(67600,)\n",
      "(67600,)\n",
      "(44720,)\n",
      "(67600,)\n",
      "(67600,)\n",
      "(67600,)\n",
      "(67600,)\n",
      "(67600,)\n",
      "Ditylum images processed\n"
     ]
    },
    {
     "ename": "KeyboardInterrupt",
     "evalue": "",
     "output_type": "error",
     "traceback": [
      "\u001b[1;31m---------------------------------------------------------------------------\u001b[0m",
      "\u001b[1;31mKeyboardInterrupt\u001b[0m                         Traceback (most recent call last)",
      "\u001b[1;32m<ipython-input-5-148445bd836a>\u001b[0m in \u001b[0;36m<module>\u001b[1;34m\u001b[0m\n\u001b[0;32m     44\u001b[0m \u001b[1;31m#flattens non-ditylum images\u001b[0m\u001b[1;33m\u001b[0m\u001b[1;33m\u001b[0m\u001b[1;33m\u001b[0m\u001b[0m\n\u001b[0;32m     45\u001b[0m \u001b[0mpath1\u001b[0m\u001b[1;33m=\u001b[0m \u001b[1;34mr'C:\\Users\\smr6743\\Desktop\\PrePrecS20\\data\\0_notditylum\\0\\*.tif'\u001b[0m\u001b[1;33m\u001b[0m\u001b[1;33m\u001b[0m\u001b[0m\n\u001b[1;32m---> 46\u001b[1;33m \u001b[0mdf_0\u001b[0m\u001b[1;33m=\u001b[0m\u001b[0mflat_images\u001b[0m\u001b[1;33m(\u001b[0m\u001b[0mpath1\u001b[0m\u001b[1;33m)\u001b[0m\u001b[1;33m\u001b[0m\u001b[1;33m\u001b[0m\u001b[0m\n\u001b[0m\u001b[0;32m     47\u001b[0m \u001b[0mdf_0\u001b[0m\u001b[1;33m=\u001b[0m\u001b[0mdf_0\u001b[0m\u001b[1;33m.\u001b[0m\u001b[0mfillna\u001b[0m\u001b[1;33m(\u001b[0m\u001b[1;36m0\u001b[0m\u001b[1;33m)\u001b[0m\u001b[1;33m\u001b[0m\u001b[1;33m\u001b[0m\u001b[0m\n\u001b[0;32m     48\u001b[0m \u001b[0mdf_0\u001b[0m\u001b[1;33m[\u001b[0m\u001b[1;34m'label'\u001b[0m\u001b[1;33m]\u001b[0m\u001b[1;33m=\u001b[0m\u001b[1;36m0\u001b[0m\u001b[1;33m\u001b[0m\u001b[1;33m\u001b[0m\u001b[0m\n",
      "\u001b[1;32m<ipython-input-5-148445bd836a>\u001b[0m in \u001b[0;36mflat_images\u001b[1;34m(path)\u001b[0m\n\u001b[0;32m     22\u001b[0m \u001b[1;31m#this function reads in images and then flattens them into a dataframe\u001b[0m\u001b[1;33m\u001b[0m\u001b[1;33m\u001b[0m\u001b[1;33m\u001b[0m\u001b[0m\n\u001b[0;32m     23\u001b[0m \u001b[1;32mdef\u001b[0m \u001b[0mflat_images\u001b[0m\u001b[1;33m(\u001b[0m\u001b[0mpath\u001b[0m\u001b[1;33m)\u001b[0m\u001b[1;33m:\u001b[0m\u001b[1;33m\u001b[0m\u001b[1;33m\u001b[0m\u001b[0m\n\u001b[1;32m---> 24\u001b[1;33m     \u001b[0mimages\u001b[0m\u001b[1;33m=\u001b[0m\u001b[0mio\u001b[0m\u001b[1;33m.\u001b[0m\u001b[0mImageCollection\u001b[0m\u001b[1;33m(\u001b[0m\u001b[0mpath\u001b[0m\u001b[1;33m)\u001b[0m\u001b[1;33m\u001b[0m\u001b[1;33m\u001b[0m\u001b[0m\n\u001b[0m\u001b[0;32m     25\u001b[0m     \u001b[1;31m#images=Image.open(path)\u001b[0m\u001b[1;33m\u001b[0m\u001b[1;33m\u001b[0m\u001b[1;33m\u001b[0m\u001b[0m\n\u001b[0;32m     26\u001b[0m     \u001b[0mflat_images\u001b[0m\u001b[1;33m=\u001b[0m\u001b[1;33m[\u001b[0m\u001b[1;33m]\u001b[0m\u001b[1;33m\u001b[0m\u001b[1;33m\u001b[0m\u001b[0m\n",
      "\u001b[1;32mC:\\ProgramData\\Anaconda3\\lib\\site-packages\\skimage\\io\\collection.py\u001b[0m in \u001b[0;36m__init__\u001b[1;34m(self, load_pattern, conserve_memory, load_func, **load_func_kwargs)\u001b[0m\n\u001b[0;32m    161\u001b[0m                 \u001b[0mself\u001b[0m\u001b[1;33m.\u001b[0m\u001b[0m_files\u001b[0m\u001b[1;33m.\u001b[0m\u001b[0mextend\u001b[0m\u001b[1;33m(\u001b[0m\u001b[0mglob\u001b[0m\u001b[1;33m(\u001b[0m\u001b[0mpattern\u001b[0m\u001b[1;33m)\u001b[0m\u001b[1;33m)\u001b[0m\u001b[1;33m\u001b[0m\u001b[1;33m\u001b[0m\u001b[0m\n\u001b[0;32m    162\u001b[0m             \u001b[0mself\u001b[0m\u001b[1;33m.\u001b[0m\u001b[0m_files\u001b[0m \u001b[1;33m=\u001b[0m \u001b[0msorted\u001b[0m\u001b[1;33m(\u001b[0m\u001b[0mself\u001b[0m\u001b[1;33m.\u001b[0m\u001b[0m_files\u001b[0m\u001b[1;33m,\u001b[0m \u001b[0mkey\u001b[0m\u001b[1;33m=\u001b[0m\u001b[0malphanumeric_key\u001b[0m\u001b[1;33m)\u001b[0m\u001b[1;33m\u001b[0m\u001b[1;33m\u001b[0m\u001b[0m\n\u001b[1;32m--> 163\u001b[1;33m             \u001b[0mself\u001b[0m\u001b[1;33m.\u001b[0m\u001b[0m_numframes\u001b[0m \u001b[1;33m=\u001b[0m \u001b[0mself\u001b[0m\u001b[1;33m.\u001b[0m\u001b[0m_find_images\u001b[0m\u001b[1;33m(\u001b[0m\u001b[1;33m)\u001b[0m\u001b[1;33m\u001b[0m\u001b[1;33m\u001b[0m\u001b[0m\n\u001b[0m\u001b[0;32m    164\u001b[0m         \u001b[1;32melse\u001b[0m\u001b[1;33m:\u001b[0m\u001b[1;33m\u001b[0m\u001b[1;33m\u001b[0m\u001b[0m\n\u001b[0;32m    165\u001b[0m             \u001b[0mself\u001b[0m\u001b[1;33m.\u001b[0m\u001b[0m_files\u001b[0m \u001b[1;33m=\u001b[0m \u001b[0mload_pattern\u001b[0m\u001b[1;33m\u001b[0m\u001b[1;33m\u001b[0m\u001b[0m\n",
      "\u001b[1;32mC:\\ProgramData\\Anaconda3\\lib\\site-packages\\skimage\\io\\collection.py\u001b[0m in \u001b[0;36m_find_images\u001b[1;34m(self)\u001b[0m\n\u001b[0;32m    197\u001b[0m         \u001b[1;32mfor\u001b[0m \u001b[0mfname\u001b[0m \u001b[1;32min\u001b[0m \u001b[0mself\u001b[0m\u001b[1;33m.\u001b[0m\u001b[0m_files\u001b[0m\u001b[1;33m:\u001b[0m\u001b[1;33m\u001b[0m\u001b[1;33m\u001b[0m\u001b[0m\n\u001b[0;32m    198\u001b[0m             \u001b[1;32mif\u001b[0m \u001b[0mfname\u001b[0m\u001b[1;33m.\u001b[0m\u001b[0mlower\u001b[0m\u001b[1;33m(\u001b[0m\u001b[1;33m)\u001b[0m\u001b[1;33m.\u001b[0m\u001b[0mendswith\u001b[0m\u001b[1;33m(\u001b[0m\u001b[1;33m(\u001b[0m\u001b[1;34m'.tiff'\u001b[0m\u001b[1;33m,\u001b[0m \u001b[1;34m'.tif'\u001b[0m\u001b[1;33m)\u001b[0m\u001b[1;33m)\u001b[0m\u001b[1;33m:\u001b[0m\u001b[1;33m\u001b[0m\u001b[1;33m\u001b[0m\u001b[0m\n\u001b[1;32m--> 199\u001b[1;33m                 \u001b[1;32mwith\u001b[0m \u001b[0mopen\u001b[0m\u001b[1;33m(\u001b[0m\u001b[0mfname\u001b[0m\u001b[1;33m,\u001b[0m \u001b[1;34m'rb'\u001b[0m\u001b[1;33m)\u001b[0m \u001b[1;32mas\u001b[0m \u001b[0mf\u001b[0m\u001b[1;33m:\u001b[0m\u001b[1;33m\u001b[0m\u001b[1;33m\u001b[0m\u001b[0m\n\u001b[0m\u001b[0;32m    200\u001b[0m                     \u001b[0mimg\u001b[0m \u001b[1;33m=\u001b[0m \u001b[0mTiffFile\u001b[0m\u001b[1;33m(\u001b[0m\u001b[0mf\u001b[0m\u001b[1;33m)\u001b[0m\u001b[1;33m\u001b[0m\u001b[1;33m\u001b[0m\u001b[0m\n\u001b[0;32m    201\u001b[0m                     \u001b[0mindex\u001b[0m \u001b[1;33m+=\u001b[0m \u001b[1;33m[\u001b[0m\u001b[1;33m(\u001b[0m\u001b[0mfname\u001b[0m\u001b[1;33m,\u001b[0m \u001b[0mi\u001b[0m\u001b[1;33m)\u001b[0m \u001b[1;32mfor\u001b[0m \u001b[0mi\u001b[0m \u001b[1;32min\u001b[0m \u001b[0mrange\u001b[0m\u001b[1;33m(\u001b[0m\u001b[0mlen\u001b[0m\u001b[1;33m(\u001b[0m\u001b[0mimg\u001b[0m\u001b[1;33m.\u001b[0m\u001b[0mpages\u001b[0m\u001b[1;33m)\u001b[0m\u001b[1;33m)\u001b[0m\u001b[1;33m]\u001b[0m\u001b[1;33m\u001b[0m\u001b[1;33m\u001b[0m\u001b[0m\n",
      "\u001b[1;31mKeyboardInterrupt\u001b[0m: "
     ]
    }
   ],
   "source": [
    "import os\n",
    "import matplotlib.pyplot as plt\n",
    "import numpy as np\n",
    "import glob\n",
    "import seaborn as sns\n",
    "import skimage.io as io\n",
    "from skimage import data_dir\n",
    "import pandas as pd\n",
    "from PIL import Image\n",
    "#import split_folders\n",
    "from sklearn.model_selection import train_test_split\n",
    "from sklearn.metrics import classification_report,confusion_matrix\n",
    "from sklearn.preprocessing import scale\n",
    "from sklearn.model_selection import GridSearchCV\n",
    "from sklearn.neural_network import MLPClassifier\n",
    "from sklearn.model_selection import cross_val_score\n",
    "from sklearn.metrics import accuracy_score\n",
    "from skimage.io import imread_collection\n",
    "from sklearn.decomposition import PCA\n",
    "from sklearn.linear_model import LogisticRegression\n",
    "\n",
    "#this function reads in images and then flattens them into a dataframe\n",
    "def flat_images(path):\n",
    "    images=io.ImageCollection(path)\n",
    "    #images=Image.open(path)\n",
    "    flat_images=[]\n",
    "    for i in range(len(images)):\n",
    "        img=images[i]\n",
    "        img1=img.flatten()\n",
    "        #img1=np.asarray(img1)\n",
    "        print(img1.shape)\n",
    "        flat_images.append(img1)\n",
    "    df=pd.DataFrame(flat_images)\n",
    "    return df\n",
    "\n",
    "#flattens ditylum images\n",
    "path = r'C:\\Users\\smr6743\\Desktop\\PrePrecS20\\data\\1_ditylum\\1\\*.tif'\n",
    "df_1=flat_images(path)\n",
    "df_1=df_1.fillna(0)\n",
    "df_1['label']=1\n",
    "\n",
    "print('Ditylum images processed')\n",
    "\n",
    "#flattens non-ditylum images\n",
    "path1= r'C:\\Users\\smr6743\\Desktop\\PrePrecS20\\data\\0_notditylum\\0\\*.tif'\n",
    "df_0=flat_images(path1)\n",
    "df_0=df_0.fillna(0)\n",
    "df_0['label']=0\n",
    "\n",
    "print('Non-Ditylum images processed')\n",
    "\n",
    "#puts both sets of images in same dataframe\n",
    "df=df_1.append(df_0,sort=True)\n",
    "df.reset_index(inplace=True,drop=True)\n",
    "df=df.fillna(0)\n",
    "\n",
    "print('Dataframe of all flattened images created')\n",
    "\n",
    "# create test and train data (80/20 split)\n",
    "X=df.drop(['label'],axis=1)\n",
    "y=df.label\n",
    "\n",
    "print('X and y are initialized')"
   ]
  },
  {
   "cell_type": "code",
   "execution_count": 3,
   "metadata": {
    "ExecuteTime": {
     "end_time": "2020-03-04T18:26:09.570966Z",
     "start_time": "2020-03-04T18:26:05.354272Z"
    }
   },
   "outputs": [],
   "source": [
    "X_train, X_test, y_train, y_test=train_test_split(X,y,test_size=.2,random_state=42)"
   ]
  },
  {
   "cell_type": "code",
   "execution_count": 4,
   "metadata": {
    "ExecuteTime": {
     "end_time": "2020-03-04T18:38:12.450414Z",
     "start_time": "2020-03-04T18:36:06.204787Z"
    }
   },
   "outputs": [
    {
     "name": "stdout",
     "output_type": "stream",
     "text": [
      "Reduces shape to 388\n",
      "(543, 547600) (543, 388)\n"
     ]
    }
   ],
   "source": [
    "pca=PCA()\n",
    "pca.fit(X_train)\n",
    "csum=np.cumsum(pca.explained_variance_ratio_)\n",
    "d=np.argmax(csum>=.95)+1\n",
    "print('Reduces shape to',d)\n",
    "pca=PCA(n_components=d)\n",
    "# reduce test set too for metrics later - not in the model itself\n",
    "X_train_reduced=pca.fit_transform(X_train)\n",
    "X_test_reduced=pca.transform(X_test)\n",
    "print(X_train.shape, X_train_reduced.shape)"
   ]
  },
  {
   "cell_type": "markdown",
   "metadata": {
    "ExecuteTime": {
     "end_time": "2019-12-06T03:31:46.056713Z",
     "start_time": "2019-12-06T03:31:46.039261Z"
    }
   },
   "source": [
    "## MLP Classifier - multilayer perceptron - feed forward neural net based on logistic regression"
   ]
  },
  {
   "cell_type": "code",
   "execution_count": 5,
   "metadata": {
    "ExecuteTime": {
     "end_time": "2020-03-04T18:48:47.697593Z",
     "start_time": "2020-03-04T18:48:00.924087Z"
    }
   },
   "outputs": [
    {
     "name": "stderr",
     "output_type": "stream",
     "text": [
      "C:\\ProgramData\\Anaconda3\\lib\\site-packages\\sklearn\\model_selection\\_search.py:813: DeprecationWarning: The default of the `iid` parameter will change from True to False in version 0.22 and will be removed in 0.24. This will change numeric results when test-set sizes are unequal.\n",
      "  DeprecationWarning)\n"
     ]
    },
    {
     "data": {
      "text/plain": [
       "GridSearchCV(cv=5, error_score='raise-deprecating',\n",
       "             estimator=MLPClassifier(activation='relu', alpha=0.0001,\n",
       "                                     batch_size='auto', beta_1=0.9,\n",
       "                                     beta_2=0.999, early_stopping=False,\n",
       "                                     epsilon=1e-08, hidden_layer_sizes=(100,),\n",
       "                                     learning_rate='constant',\n",
       "                                     learning_rate_init=0.001, max_iter=200,\n",
       "                                     momentum=0.9, n_iter_no_change=10,\n",
       "                                     nesterovs_momentum=True, power_t=0.5,\n",
       "                                     random_sta...\n",
       "                                     solver='adam', tol=0.0001,\n",
       "                                     validation_fraction=0.1, verbose=False,\n",
       "                                     warm_start=False),\n",
       "             iid='warn', n_jobs=None,\n",
       "             param_grid={'alpha': array([0.0085, 0.009 ]),\n",
       "                         'hidden_layer_sizes': [(100, 100, 100), (64, 64, 64),\n",
       "                                                (32, 32, 32), (256, 256, 256),\n",
       "                                                (128, 128, 128)],\n",
       "                         'max_iter': [1000], 'random_state': [42]},\n",
       "             pre_dispatch='2*n_jobs', refit=True, return_train_score=False,\n",
       "             scoring=None, verbose=0)"
      ]
     },
     "execution_count": 5,
     "metadata": {},
     "output_type": "execute_result"
    }
   ],
   "source": [
    "# set parameters to perform a grid search and MLP classifier\n",
    "params={'max_iter':[1000],'alpha':np.linspace(0.0085, 0.009, 2),'hidden_layer_sizes':[(100,100,100),(64,64,64), (32,32,32), (256,256,256),(128,128,128)],'random_state':[42]}\n",
    "grid=GridSearchCV(MLPClassifier(),params,refit=True,verbose=0,cv=5)\n",
    "grid.fit(X_train_reduced,y_train)"
   ]
  },
  {
   "cell_type": "code",
   "execution_count": 6,
   "metadata": {
    "ExecuteTime": {
     "end_time": "2020-03-04T18:54:06.202365Z",
     "start_time": "2020-03-04T18:54:06.186410Z"
    }
   },
   "outputs": [],
   "source": [
    "# predicted based off of the model\n",
    "y_pred=grid.predict(X_test_reduced)"
   ]
  },
  {
   "cell_type": "code",
   "execution_count": 7,
   "metadata": {
    "ExecuteTime": {
     "end_time": "2020-03-04T18:54:14.925078Z",
     "start_time": "2020-03-04T18:54:14.910116Z"
    }
   },
   "outputs": [
    {
     "name": "stdout",
     "output_type": "stream",
     "text": [
      "0.7941176470588235\n",
      "[[48 10]\n",
      " [18 60]]\n",
      "              precision    recall  f1-score   support\n",
      "\n",
      "           0       0.73      0.83      0.77        58\n",
      "           1       0.86      0.77      0.81        78\n",
      "\n",
      "    accuracy                           0.79       136\n",
      "   macro avg       0.79      0.80      0.79       136\n",
      "weighted avg       0.80      0.79      0.80       136\n",
      "\n"
     ]
    }
   ],
   "source": [
    "# metrics\n",
    "print(accuracy_score(y_test, y_pred))\n",
    "print(confusion_matrix(y_test, y_pred))\n",
    "print(classification_report(y_test,y_pred))"
   ]
  },
  {
   "cell_type": "code",
   "execution_count": 8,
   "metadata": {
    "ExecuteTime": {
     "end_time": "2020-03-04T18:54:28.514239Z",
     "start_time": "2020-03-04T18:54:28.507259Z"
    }
   },
   "outputs": [
    {
     "data": {
      "text/plain": [
       "({'alpha': 0.009,\n",
       "  'hidden_layer_sizes': (256, 256, 256),\n",
       "  'max_iter': 1000,\n",
       "  'random_state': 42},\n",
       " 0.7550644567219152)"
      ]
     },
     "execution_count": 8,
     "metadata": {},
     "output_type": "execute_result"
    }
   ],
   "source": [
    "grid.best_params_,grid.best_score_"
   ]
  },
  {
   "cell_type": "markdown",
   "metadata": {},
   "source": [
    "## MLP Classifier - Scaled First"
   ]
  },
  {
   "cell_type": "code",
   "execution_count": null,
   "metadata": {
    "ExecuteTime": {
     "end_time": "2020-03-04T18:17:39.721174Z",
     "start_time": "2020-03-04T18:16:30.671Z"
    }
   },
   "outputs": [],
   "source": [
    "# Apply transform to both the training set and the test set.\n",
    "X_train_scaled = scale(X_train)\n",
    "X_test_scaled = scale(X_test)\n",
    "# perform PCA\n",
    "pca=PCA()\n",
    "pca.fit(X_train)\n",
    "csum=np.cumsum(pca.explained_variance_ratio_)\n",
    "d=np.argmax(csum>=.95)+1\n",
    "print('Reduces shape to',d)\n",
    "pca=PCA(n_components=d)\n",
    "# reduce test set too for metrics later - not in the model itself\n",
    "X_train_reduced=pca.fit_transform(X_train_scaled)\n",
    "X_test_reduced=pca.transform(X_test_scaled)\n",
    "print(X_train.shape, X_train_reduced.shape)"
   ]
  },
  {
   "cell_type": "code",
   "execution_count": null,
   "metadata": {
    "ExecuteTime": {
     "end_time": "2020-03-04T18:17:39.723170Z",
     "start_time": "2020-03-04T18:16:30.673Z"
    }
   },
   "outputs": [],
   "source": [
    "# set parameters to perform a grid search and MLP classifier\n",
    "params={'max_iter':[1000],'alpha':np.linspace(0.0085, 0.009, 2),'hidden_layer_sizes':[(100,100,100),(64,64,64), (32,32,32), (256,256,256),(128,128,128)],'random_state':[42]}\n",
    "grid=GridSearchCV(MLPClassifier(),params,refit=True,verbose=3,cv=5)\n",
    "grid.fit(X_train_reduced,y_train)\n",
    "# predicted based off of the model\n",
    "y_pred=grid.predict(X_test_reduced)"
   ]
  },
  {
   "cell_type": "code",
   "execution_count": null,
   "metadata": {
    "ExecuteTime": {
     "end_time": "2020-03-04T18:17:39.726164Z",
     "start_time": "2020-03-04T18:16:30.674Z"
    }
   },
   "outputs": [],
   "source": [
    "# metrics\n",
    "print(accuracy_score(y_test, y_pred))\n",
    "print(confusion_matrix(y_test, y_pred))\n",
    "print(classification_report(y_test,y_pred))"
   ]
  },
  {
   "cell_type": "markdown",
   "metadata": {},
   "source": [
    "## Basic Logistic Regression - w/ only PCA not scaling"
   ]
  },
  {
   "cell_type": "code",
   "execution_count": null,
   "metadata": {
    "ExecuteTime": {
     "end_time": "2020-03-04T18:17:39.729154Z",
     "start_time": "2020-03-04T18:16:30.676Z"
    }
   },
   "outputs": [],
   "source": [
    "logReg = LogisticRegression()\n",
    "logReg.fit(X_train_reduced,y_train)\n",
    "y_pred=logReg.predict(X_test_reduced)\n",
    "\n",
    "# metrics\n",
    "print(accuracy_score(y_test, y_pred))\n",
    "print(confusion_matrix(y_test, y_pred))\n",
    "print(classification_report(y_test,y_pred))"
   ]
  },
  {
   "cell_type": "code",
   "execution_count": null,
   "metadata": {},
   "outputs": [],
   "source": []
  }
 ],
 "metadata": {
  "kernelspec": {
   "display_name": "Python 3",
   "language": "python",
   "name": "python3"
  },
  "language_info": {
   "codemirror_mode": {
    "name": "ipython",
    "version": 3
   },
   "file_extension": ".py",
   "mimetype": "text/x-python",
   "name": "python",
   "nbconvert_exporter": "python",
   "pygments_lexer": "ipython3",
   "version": "3.7.3"
  },
  "toc": {
   "base_numbering": 1,
   "nav_menu": {},
   "number_sections": true,
   "sideBar": true,
   "skip_h1_title": false,
   "title_cell": "Table of Contents",
   "title_sidebar": "Contents",
   "toc_cell": false,
   "toc_position": {},
   "toc_section_display": true,
   "toc_window_display": false
  },
  "varInspector": {
   "cols": {
    "lenName": 16,
    "lenType": 16,
    "lenVar": 40
   },
   "kernels_config": {
    "python": {
     "delete_cmd_postfix": "",
     "delete_cmd_prefix": "del ",
     "library": "var_list.py",
     "varRefreshCmd": "print(var_dic_list())"
    },
    "r": {
     "delete_cmd_postfix": ") ",
     "delete_cmd_prefix": "rm(",
     "library": "var_list.r",
     "varRefreshCmd": "cat(var_dic_list()) "
    }
   },
   "types_to_exclude": [
    "module",
    "function",
    "builtin_function_or_method",
    "instance",
    "_Feature"
   ],
   "window_display": false
  }
 },
 "nbformat": 4,
 "nbformat_minor": 2
}
